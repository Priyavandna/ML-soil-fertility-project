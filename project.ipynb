{
 "cells": [
  {
   "cell_type": "code",
   "execution_count": 4,
   "id": "814b04cc",
   "metadata": {},
   "outputs": [
    {
     "name": "stdout",
     "output_type": "stream",
     "text": [
      " * Serving Flask app \"__main__\" (lazy loading)\n",
      " * Environment: production\n",
      "\u001b[31m   WARNING: This is a development server. Do not use it in a production deployment.\u001b[0m\n",
      "\u001b[2m   Use a production WSGI server instead.\u001b[0m\n",
      " * Debug mode: off\n"
     ]
    },
    {
     "name": "stderr",
     "output_type": "stream",
     "text": [
      " * Running on http://127.0.0.1:8000/ (Press CTRL+C to quit)\n",
      "127.0.0.1 - - [09/Aug/2024 19:45:11] \"GET / HTTP/1.1\" 200 -\n",
      "C:\\Users\\ranaw\\AppData\\Local\\Temp\\ipykernel_18184\\3152527160.py:50: DataConversionWarning: A column-vector y was passed when a 1d array was expected. Please change the shape of y to (n_samples,), for example using ravel().\n",
      "  forestRegressor.fit(X_train, Y_train)\n",
      "C:\\Users\\ranaw\\anaconda3\\lib\\site-packages\\sklearn\\ensemble\\_forest.py:396: FutureWarning: Criterion 'mse' was deprecated in v1.0 and will be removed in version 1.2. Use `criterion='squared_error'` which is equivalent.\n",
      "  warn(\n",
      "127.0.0.1 - - [09/Aug/2024 19:45:20] \"POST /soilfertility HTTP/1.1\" 200 -\n"
     ]
    }
   ],
   "source": [
    "import os\n",
    "import pandas as pd\n",
    "import numpy as np\n",
    "from sklearn import preprocessing\n",
    "from sklearn.ensemble import RandomForestRegressor\n",
    "from sklearn.model_selection import train_test_split\n",
    "from flask import Flask, request, render_template\n",
    "from sklearn.preprocessing import MinMaxScaler\n",
    "from sklearn import metrics\n",
    "from threading import Thread\n",
    "\n",
    "# Load the dataset\n",
    "data = pd.read_csv('dataset.txt')\n",
    "\n",
    "# Initialize Flask app\n",
    "app = Flask(__name__)\n",
    "\n",
    "# Define routes\n",
    "@app.route('/')\n",
    "def home():\n",
    "    return render_template('ProjectHomepage.html')\n",
    "\n",
    "@app.route('/soilfertility', methods=['POST'])\n",
    "def soilfertility():\n",
    "    # Collect input data\n",
    "    inputs = [float(request.form[str(i)]) for i in range(14)]\n",
    "\n",
    "    if all(x == 0 for x in inputs):\n",
    "        return render_template('ProjectHomepage.html', prediction_text=0)\n",
    "\n",
    "    # Prepare the dataset and input for prediction\n",
    "    X, Y = data[data.columns[1:]], data['Vegetation Cover']\n",
    "    dict_input = {col_name: [value] for col_name, value in zip(X.columns, inputs)}\n",
    "    df_input = pd.DataFrame(dict_input)\n",
    "    \n",
    "    # Concatenate input with the dataset and normalize\n",
    "    df = pd.concat([X, df_input], ignore_index=True)\n",
    "    scaler = MinMaxScaler()\n",
    "    X_scaled, Y_scaled = scaler.fit_transform(df.values), scaler.fit_transform(Y.values.reshape(-1,1))\n",
    "    \n",
    "    # Prepare the input for the model\n",
    "    l1 = [X_scaled[-1]]\n",
    "    X_scaled = X_scaled[:-1]  # Remove the last row used for prediction\n",
    "\n",
    "    # Split data\n",
    "    X_train, X_test, Y_train, Y_test = train_test_split(X_scaled, Y_scaled, test_size=0.10, random_state=43)\n",
    "\n",
    "    # Train the model\n",
    "    forestRegressor = RandomForestRegressor(criterion='mse', max_depth=8, n_estimators=10, random_state=0)\n",
    "    forestRegressor.fit(X_train, Y_train)\n",
    "\n",
    "    # Make prediction\n",
    "    prediction = forestRegressor.predict(l1)\n",
    "    prediction = prediction[0]\n",
    "\n",
    "    # Create response text\n",
    "    text = \"Your soil is high fertile.\" if prediction >= 0.9 else \"Your Soil is less fertile.\"\n",
    "    if prediction < 0.9:\n",
    "        nutrients = []\n",
    "        if inputs[0] < 12.75:\n",
    "            nutrients.append(\"NO3\")\n",
    "        if inputs[2] < 47:\n",
    "            nutrients.append(\"P\")\n",
    "        if inputs[8] < 0.6:\n",
    "            nutrients.append(\"Zn\")\n",
    "        if inputs[3] < 15:\n",
    "            nutrients.append(\"K\")\n",
    "        if inputs[6] < 0.28:\n",
    "            nutrients.append(\"Organic Matter\")\n",
    "        if inputs[10] < 1:\n",
    "            nutrients.append(\"Fe\")\n",
    "        if nutrients:\n",
    "            text += \" Consider increasing these nutrients: \" + \", \".join(nutrients)\n",
    "    \n",
    "    return render_template('Results.html', content=text, prediction_text=int(np.round(prediction * 100)))\n",
    "\n",
    "# Run Flask in a separate thread to keep Jupyter responsive\n",
    "def run_flask():\n",
    "    app.run(port=8000, debug=False, use_reloader=False)\n",
    "\n",
    "if __name__ == \"__main__\":\n",
    "    thread = Thread(target=run_flask)\n",
    "    thread.start()\n"
   ]
  },
  {
   "cell_type": "code",
   "execution_count": null,
   "id": "65e9a7e2",
   "metadata": {},
   "outputs": [],
   "source": []
  },
  {
   "cell_type": "code",
   "execution_count": null,
   "id": "a2f98f1d",
   "metadata": {},
   "outputs": [],
   "source": []
  }
 ],
 "metadata": {
  "kernelspec": {
   "display_name": "Python 3 (ipykernel)",
   "language": "python",
   "name": "python3"
  },
  "language_info": {
   "codemirror_mode": {
    "name": "ipython",
    "version": 3
   },
   "file_extension": ".py",
   "mimetype": "text/x-python",
   "name": "python",
   "nbconvert_exporter": "python",
   "pygments_lexer": "ipython3",
   "version": "3.9.13"
  }
 },
 "nbformat": 4,
 "nbformat_minor": 5
}
